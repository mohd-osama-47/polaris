{
  "cells": [
    {
      "cell_type": "code",
      "execution_count": null,
      "metadata": {
        "colab": {
          "base_uri": "https://localhost:8080/"
        },
        "id": "4fBpqzh9Xw2l",
        "outputId": "df428a20-2ffb-49aa-ff34-24fddb920c27"
      },
      "outputs": [
        {
          "name": "stdout",
          "output_type": "stream",
          "text": [
            "Thu Mar 23 08:42:44 2023       \n",
            "+-----------------------------------------------------------------------------+\n",
            "| NVIDIA-SMI 525.85.12    Driver Version: 525.85.12    CUDA Version: 12.0     |\n",
            "|-------------------------------+----------------------+----------------------+\n",
            "| GPU  Name        Persistence-M| Bus-Id        Disp.A | Volatile Uncorr. ECC |\n",
            "| Fan  Temp  Perf  Pwr:Usage/Cap|         Memory-Usage | GPU-Util  Compute M. |\n",
            "|                               |                      |               MIG M. |\n",
            "|===============================+======================+======================|\n",
            "|   0  Tesla T4            Off  | 00000000:00:04.0 Off |                    0 |\n",
            "| N/A   58C    P0    26W /  70W |      0MiB / 15360MiB |      0%      Default |\n",
            "|                               |                      |                  N/A |\n",
            "+-------------------------------+----------------------+----------------------+\n",
            "                                                                               \n",
            "+-----------------------------------------------------------------------------+\n",
            "| Processes:                                                                  |\n",
            "|  GPU   GI   CI        PID   Type   Process name                  GPU Memory |\n",
            "|        ID   ID                                                   Usage      |\n",
            "|=============================================================================|\n",
            "|  No running processes found                                                 |\n",
            "+-----------------------------------------------------------------------------+\n"
          ]
        }
      ],
      "source": [
        "!nvidia-smi"
      ]
    },
    {
      "cell_type": "markdown",
      "metadata": {
        "id": "jrS4dzKG7yuC"
      },
      "source": [
        "## Get the dataset and extract it to session storage:"
      ]
    },
    {
      "cell_type": "code",
      "execution_count": null,
      "metadata": {
        "colab": {
          "base_uri": "https://localhost:8080/"
        },
        "id": "c28KC6WWJbF4",
        "outputId": "1783a587-b5eb-4529-8587-11bf25b08aa3"
      },
      "outputs": [
        {
          "name": "stdout",
          "output_type": "stream",
          "text": [
            "Mounted at /content/drive\n"
          ]
        }
      ],
      "source": [
        "from google.colab import drive\n",
        "#Loading the data set folder\n",
        "drive.mount('/content/drive')"
      ]
    },
    {
      "cell_type": "markdown",
      "metadata": {
        "id": "4MMKQdhO4vok"
      },
      "source": [
        "### **!!!WEIRD GOOGLE COLAB BUG ALERT!!**\n",
        "\n",
        "For some reason, having the files extracted and stored in the G Drive of the account leads to some images being removed sometimes! Dont ask me why this happens. \n",
        "\n",
        "To circumvent this, the script has been updated to extract the contents of the zip file **to the session's storage** meaning that for every new session of trainning or visualization, you have to first **unzip** the files and then access them from their respective directory.\n",
        "\n",
        "It is annoying, but this ensures all data is atleast maintained safely."
      ]
    },
    {
      "cell_type": "code",
      "execution_count": null,
      "metadata": {
        "id": "mdLKprMkjOFo"
      },
      "outputs": [],
      "source": [
        "!unzip -q /content/drive/MyDrive/mergedyolosplit.zip"
      ]
    },
    {
      "cell_type": "code",
      "execution_count": null,
      "metadata": {
        "colab": {
          "base_uri": "https://localhost:8080/"
        },
        "id": "sdQkVfX57z-j",
        "outputId": "21c9c952-7cce-4001-dd61-5f70e6ff6d6a"
      },
      "outputs": [
        {
          "name": "stdout",
          "output_type": "stream",
          "text": [
            "19888\n"
          ]
        }
      ],
      "source": [
        "# Tp check if all images are here, output should be 19888.\n",
        "!ls /content/mergedyolosplit/train/ | wc -l"
      ]
    },
    {
      "cell_type": "code",
      "execution_count": null,
      "metadata": {
        "colab": {
          "base_uri": "https://localhost:8080/"
        },
        "id": "R-f79ln07zUK",
        "outputId": "aa4cc0e1-fecf-457e-dbc0-32a997753977"
      },
      "outputs": [
        {
          "name": "stdout",
          "output_type": "stream",
          "text": [
            "5684\n"
          ]
        }
      ],
      "source": [
        "# Tp check if all images are here, output should be 5684.\n",
        "!ls /content/mergedyolosplit/val/ | wc -l"
      ]
    },
    {
      "cell_type": "code",
      "execution_count": null,
      "metadata": {
        "colab": {
          "base_uri": "https://localhost:8080/"
        },
        "id": "-26ctVfj7GT5",
        "outputId": "67108c46-aa32-4ad0-ec24-4181d0b58f58"
      },
      "outputs": [
        {
          "name": "stdout",
          "output_type": "stream",
          "text": [
            "2842\n"
          ]
        }
      ],
      "source": [
        "# Tp check if all images are here, output should be 2842.\n",
        "!ls /content/mergedyolosplit/test/ | wc -l"
      ]
    },
    {
      "cell_type": "markdown",
      "metadata": {
        "id": "1A5bkFj6jwGG"
      },
      "source": [
        "## YOLOv8 Attempt"
      ]
    },
    {
      "cell_type": "markdown",
      "metadata": {
        "id": "uawFbbdvpAY-"
      },
      "source": [
        "For the YOLO yaml file, same the following as a .yaml file on the root of the session and name it ```dataset.yaml```:\n",
        "\n",
        "\n",
        "```yaml\n",
        "path: '/content/mergedyolosplit/'\n",
        "train: 'train.txt'\n",
        "test: 'test.txt'\n",
        "val: 'val.txt'\n",
        " \n",
        "# number of classes\n",
        "nc: 8\n",
        "\n",
        "# class names\n",
        "names: [\"Person\", \"offroad_vehicle\", \"Motorcyclist\", \"ATV driver\", \"None\", \"Car\", \"Bus\", \"Truck\"]\n",
        "```"
      ]
    },
    {
      "cell_type": "markdown",
      "metadata": {
        "id": "m8ZqFpOn7SZX"
      },
      "source": [
        "OR alternatively move the yaml file within the extracted file from drive into \n",
        "the root of the session."
      ]
    },
    {
      "cell_type": "markdown",
      "metadata": {
        "id": "7mGmQbAO5pQb"
      },
      "source": [
        "# Setup\n",
        "\n",
        "Pip install `ultralytics` and [dependencies](https://github.com/ultralytics/ultralytics/blob/main/requirements.txt) and check software and hardware."
      ]
    },
    {
      "cell_type": "code",
      "execution_count": null,
      "metadata": {
        "colab": {
          "base_uri": "https://localhost:8080/"
        },
        "id": "Fd_UqdjUj0jv",
        "outputId": "a40df04a-6c57-4139-cbc7-5a81380632a7"
      },
      "outputs": [
        {
          "name": "stderr",
          "output_type": "stream",
          "text": [
            "Ultralytics YOLOv8.0.55 🚀 Python-3.9.16 torch-1.13.1+cu116 CUDA:0 (Tesla T4, 15102MiB)\n",
            "Setup complete ✅ (2 CPUs, 12.7 GB RAM, 33.5/166.8 GB disk)\n"
          ]
        }
      ],
      "source": [
        "%pip install ultralytics\n",
        "import ultralytics\n",
        "ultralytics.checks()"
      ]
    },
    {
      "cell_type": "markdown",
      "metadata": {
        "id": "ZY2VXXXu74w5"
      },
      "source": [
        "# 3. Train\n",
        "\n",
        "Train YOLOv8 on the custom dataset..."
      ]
    },
    {
      "cell_type": "code",
      "execution_count": null,
      "metadata": {
        "colab": {
          "base_uri": "https://localhost:8080/"
        },
        "id": "epk3M6ltrPQn",
        "outputId": "573c7f4b-ace8-4057-f202-62a38c08bc91"
      },
      "outputs": [
        {
          "name": "stdout",
          "output_type": "stream",
          "text": [
            "\u001b[2K     \u001b[90m━━━━━━━━━━━━━━━━━━━━━━━━━━━━━━━━━━━━━━━\u001b[0m \u001b[32m511.8/511.8 MB\u001b[0m \u001b[31m3.0 MB/s\u001b[0m eta \u001b[36m0:00:00\u001b[0m\n",
            "\u001b[2K     \u001b[90m━━━━━━━━━━━━━━━━━━━━━━━━━━━━━━━━━━━━━━\u001b[0m \u001b[32m438.7/438.7 KB\u001b[0m \u001b[31m33.8 MB/s\u001b[0m eta \u001b[36m0:00:00\u001b[0m\n",
            "\u001b[2K     \u001b[90m━━━━━━━━━━━━━━━━━━━━━━━━━━━━━━━━━━━━━━━━\u001b[0m \u001b[32m5.8/5.8 MB\u001b[0m \u001b[31m44.8 MB/s\u001b[0m eta \u001b[36m0:00:00\u001b[0m\n",
            "\u001b[2K     \u001b[90m━━━━━━━━━━━━━━━━━━━━━━━━━━━━━━━━━━━━━━━━\u001b[0m \u001b[32m42.6/42.6 KB\u001b[0m \u001b[31m4.5 MB/s\u001b[0m eta \u001b[36m0:00:00\u001b[0m\n",
            "\u001b[2K     \u001b[90m━━━━━━━━━━━━━━━━━━━━━━━━━━━━━━━━━━━━━━━━\u001b[0m \u001b[32m1.6/1.6 MB\u001b[0m \u001b[31m61.8 MB/s\u001b[0m eta \u001b[36m0:00:00\u001b[0m\n",
            "\u001b[?25h"
          ]
        }
      ],
      "source": [
        " !pip -q install -U tensorflow==2.9.2"
      ]
    },
    {
      "cell_type": "code",
      "execution_count": null,
      "metadata": {
        "colab": {
          "base_uri": "https://localhost:8080/"
        },
        "id": "7yEzl-zGrSeJ",
        "outputId": "e844ee26-9c21-443a-f7bf-bdb05c158265"
      },
      "outputs": [
        {
          "name": "stdout",
          "output_type": "stream",
          "text": [
            "\u001b[?25l     \u001b[90m━━━━━━━━━━━━━━━━━━━━━━━━━━━━━━━━━━━━━━━━\u001b[0m \u001b[32m0.0/56.0 KB\u001b[0m \u001b[31m?\u001b[0m eta \u001b[36m-:--:--\u001b[0m\r\u001b[2K     \u001b[90m━━━━━━━━━━━━━━━━━━━━━━━━━━━━━━━━━━━━━━━━\u001b[0m \u001b[32m56.0/56.0 KB\u001b[0m \u001b[31m2.7 MB/s\u001b[0m eta \u001b[36m0:00:00\u001b[0m\n",
            "\u001b[2K     \u001b[90m━━━━━━━━━━━━━━━━━━━━━━━━━━━━━━━━━━━━━━━━\u001b[0m \u001b[32m64.5/64.5 KB\u001b[0m \u001b[31m7.8 MB/s\u001b[0m eta \u001b[36m0:00:00\u001b[0m\n",
            "\u001b[2K     \u001b[90m━━━━━━━━━━━━━━━━━━━━━━━━━━━━━━━━━━━━━━━━\u001b[0m \u001b[32m80.6/80.6 KB\u001b[0m \u001b[31m11.7 MB/s\u001b[0m eta \u001b[36m0:00:00\u001b[0m\n",
            "\u001b[?25h"
          ]
        }
      ],
      "source": [
        " !pip -q install fastapi==0.90.0"
      ]
    },
    {
      "cell_type": "code",
      "execution_count": null,
      "metadata": {
        "colab": {
          "base_uri": "https://localhost:8080/"
        },
        "id": "QcyQWTE2seqn",
        "outputId": "08259228-e264-4533-bb6a-3fc76e82cb2c"
      },
      "outputs": [
        {
          "name": "stdout",
          "output_type": "stream",
          "text": [
            "/content/mergedyolosplit\n"
          ]
        }
      ],
      "source": [
        "%cd mergedyolosplit"
      ]
    },
    {
      "cell_type": "code",
      "execution_count": null,
      "metadata": {
        "id": "fcHycUATdv-g"
      },
      "outputs": [],
      "source": [
        "!yolo task=detect mode=train model=yolov8n.pt imgsz=640 data=dataset.yaml name=/content/drive/MyDrive/YOLO_attempt/try\n",
        "# !yolo task=detect mode=train model=yolov8n.pt imgsz=640 data=mergedYOLO/dataset.yaml epochs=10 batch=8 name=/content/drive/MyDrive/YOLOMergedOUT"
      ]
    },
    {
      "cell_type": "markdown",
      "metadata": {
        "id": "4oagav50qexr"
      },
      "source": [
        "to validate, manually flip the ```dataset.yaml``` entries for ```test``` and ```val``` and run the following:"
      ]
    },
    {
      "cell_type": "code",
      "execution_count": null,
      "metadata": {
        "colab": {
          "base_uri": "https://localhost:8080/"
        },
        "id": "VPGo-NrSicZK",
        "outputId": "7bf03427-1494-41ad-baff-f7336d5ca493"
      },
      "outputs": [
        {
          "name": "stdout",
          "output_type": "stream",
          "text": [
            "Ultralytics YOLOv8.0.55 🚀 Python-3.9.16 torch-1.13.1+cu116 CUDA:0 (Tesla T4, 15102MiB)\n",
            "Model summary (fused): 168 layers, 3007208 parameters, 0 gradients, 8.1 GFLOPs\n",
            "\u001b[34m\u001b[1mval: \u001b[0mScanning test... 1421 images, 0 backgrounds, 0 corrupt: 100% 1421/1421 [00:03<00:00, 430.53it/s]\n",
            "\u001b[34m\u001b[1mval: \u001b[0mNew cache created: test.cache\n",
            "                 Class     Images  Instances      Box(P          R      mAP50  mAP50-95): 100% 89/89 [00:29<00:00,  3.01it/s]\n",
            "                   all       1421      10915      0.985      0.956       0.99      0.835\n",
            "                Person       1421       5003      0.996      0.984      0.995      0.905\n",
            "       offroad_vehicle       1421       2010      0.987      0.974      0.993       0.86\n",
            "          Motorcyclist       1421       1193      0.987      0.952      0.993      0.856\n",
            "            ATV driver       1421        792      0.988      0.937      0.987      0.707\n",
            "                  None       1421         33      0.956       0.97      0.993      0.852\n",
            "                   Car       1421       1598      0.985      0.959      0.992      0.841\n",
            "                   Bus       1421        230      0.982      0.929      0.975      0.823\n",
            "                 Truck       1421         56          1      0.942      0.991       0.84\n",
            "Speed: 0.8ms preprocess, 4.1ms inference, 0.0ms loss, 2.0ms postprocess per image\n",
            "Results saved to \u001b[1mruns/detect/val3\u001b[0m\n"
          ]
        }
      ],
      "source": [
        "!yolo detect val model=/content/drive/MyDrive/YOLO_attempt/try4/weights/best.pt data=dataset.yaml  # predict with custom model"
      ]
    },
    {
      "cell_type": "code",
      "execution_count": null,
      "metadata": {
        "id": "PO8pSTeqqrjH"
      },
      "outputs": [],
      "source": [
        "!mv runs/detect/val3 /content/drive/MyDrive/YOLO_attempt/try4/test_run_results"
      ]
    }
  ],
  "metadata": {
    "colab": {
      "provenance": []
    },
    "gpuClass": "standard",
    "kernelspec": {
      "display_name": "Python 3",
      "name": "python3"
    },
    "language_info": {
      "name": "python"
    }
  },
  "nbformat": 4,
  "nbformat_minor": 0
}
